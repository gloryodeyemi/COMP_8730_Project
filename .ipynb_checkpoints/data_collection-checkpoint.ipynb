{
 "cells": [
  {
   "cell_type": "markdown",
   "id": "e3fb38f7",
   "metadata": {},
   "source": [
    "### Install and import the needed libraries"
   ]
  },
  {
   "cell_type": "code",
   "execution_count": 1,
   "id": "5c2ef8be",
   "metadata": {},
   "outputs": [
    {
     "name": "stdout",
     "output_type": "stream",
     "text": [
      "Requirement already satisfied: tweepy in /Users/new/opt/anaconda3/lib/python3.9/site-packages (4.12.1)\n",
      "Requirement already satisfied: requests-oauthlib<2,>=1.2.0 in /Users/new/opt/anaconda3/lib/python3.9/site-packages (from tweepy) (1.3.1)\n",
      "Requirement already satisfied: oauthlib<4,>=3.2.0 in /Users/new/opt/anaconda3/lib/python3.9/site-packages (from tweepy) (3.2.2)\n",
      "Requirement already satisfied: requests<3,>=2.27.0 in /Users/new/opt/anaconda3/lib/python3.9/site-packages (from tweepy) (2.28.1)\n",
      "Requirement already satisfied: urllib3<1.27,>=1.21.1 in /Users/new/opt/anaconda3/lib/python3.9/site-packages (from requests<3,>=2.27.0->tweepy) (1.26.11)\n",
      "Requirement already satisfied: certifi>=2017.4.17 in /Users/new/opt/anaconda3/lib/python3.9/site-packages (from requests<3,>=2.27.0->tweepy) (2022.9.24)\n",
      "Requirement already satisfied: idna<4,>=2.5 in /Users/new/opt/anaconda3/lib/python3.9/site-packages (from requests<3,>=2.27.0->tweepy) (3.3)\n",
      "Requirement already satisfied: charset-normalizer<3,>=2 in /Users/new/opt/anaconda3/lib/python3.9/site-packages (from requests<3,>=2.27.0->tweepy) (2.0.4)\n",
      "Requirement already satisfied: emoji in /Users/new/opt/anaconda3/lib/python3.9/site-packages (2.2.0)\n"
     ]
    }
   ],
   "source": [
    "!pip install tweepy\n",
    "!pip install emoji"
   ]
  },
  {
   "cell_type": "code",
   "execution_count": 2,
   "id": "ccd9d2d3",
   "metadata": {},
   "outputs": [],
   "source": [
    "# import libraries\n",
    "import tweepy\n",
    "import pandas as pd\n",
    "import re\n",
    "import emoji"
   ]
  },
  {
   "cell_type": "markdown",
   "id": "b5cfbce7",
   "metadata": {},
   "source": [
    "### Access the twitter api using your twitter developer account credentials"
   ]
  },
  {
   "cell_type": "code",
   "execution_count": 3,
   "id": "bb262099",
   "metadata": {},
   "outputs": [],
   "source": [
    "# connect twitter api\n",
    "def twitter_auth():\n",
    "  api_key = 'XXXXXXXXXXXXXXXX'\n",
    "  api_key_secret = 'XXXXXXXXXXXXXXXX'\n",
    "\n",
    "  access_token = 'XXXXXXXXXXXXXXXX'\n",
    "  access_token_secret = 'XXXXXXXXXXXXXXXX'\n",
    "\n",
    "  # authenticate\n",
    "  auth = tweepy.OAuthHandler(api_key, api_key_secret)\n",
    "  auth.set_access_token(access_token, access_token_secret)\n",
    "\n",
    "  api = tweepy.API(auth)\n",
    "  return api"
   ]
  },
  {
   "cell_type": "markdown",
   "id": "5967c82b",
   "metadata": {},
   "source": [
    "### Get tweets from the twitter accounts and save the in a dataframe"
   ]
  },
  {
   "cell_type": "code",
   "execution_count": 4,
   "id": "388dc3e5",
   "metadata": {},
   "outputs": [],
   "source": [
    "# get tweets from twitter\n",
    "def get_tweets(api):\n",
    "  users = ['XXXXXXXXX', 'XXXXXXXX', 'XXXXXXXX']\n",
    "  limit=100 #tweets limit\n",
    "\n",
    "  # Create columns for the DataFrame\n",
    "  columns = ['Tweet']\n",
    "  data = []\n",
    "\n",
    "  # Search using pagination\n",
    "  for user in users:\n",
    "    tweets = tweepy.Cursor(api.user_timeline, screen_name=user, tweet_mode='extended', exclude_replies=True, include_rts=False).items(limit)\n",
    "\n",
    "    # Iterate through the results and append them to the list\n",
    "    for tweet in tweets:\n",
    "        data.append([tweet.full_text])\n",
    "\n",
    "  # Create a dataframe with the results\n",
    "  tweet_data = pd.DataFrame(data, columns=columns)\n",
    "  return tweet_data"
   ]
  },
  {
   "cell_type": "markdown",
   "id": "23360a88",
   "metadata": {},
   "source": [
    "### Clean the tweets"
   ]
  },
  {
   "cell_type": "code",
   "execution_count": 5,
   "id": "60870cc1",
   "metadata": {},
   "outputs": [],
   "source": [
    "# clean tweets\n",
    "def tweet_cleaner(tweet):\n",
    "    tweet = re.sub(\"@[A-Za-z0-9]+\",\"\",tweet) # remove @ sign\n",
    "    tweet = re.sub(r\"(?:\\@|http?\\://|https?\\://|www)\\S+\", \"\", tweet) # remove http links\n",
    "    tweet = \" \".join(tweet.split())\n",
    "    tweet = ''.join(c for c in tweet if c not in emoji.distinct_emoji_list(c)) # remove emojis\n",
    "    tweet = tweet.replace(\"#\", \"\").replace(\"_\", \" \") # remove hashtag sign but keep the text\n",
    "    return tweet"
   ]
  },
  {
   "cell_type": "markdown",
   "id": "d2536928",
   "metadata": {},
   "source": [
    "### Call the functions to do all of the above and save your data as a csv file"
   ]
  },
  {
   "cell_type": "code",
   "execution_count": 6,
   "id": "2b4d6301",
   "metadata": {},
   "outputs": [
    {
     "data": {
      "text/html": [
       "<div>\n",
       "<style scoped>\n",
       "    .dataframe tbody tr th:only-of-type {\n",
       "        vertical-align: middle;\n",
       "    }\n",
       "\n",
       "    .dataframe tbody tr th {\n",
       "        vertical-align: top;\n",
       "    }\n",
       "\n",
       "    .dataframe thead th {\n",
       "        text-align: right;\n",
       "    }\n",
       "</style>\n",
       "<table border=\"1\" class=\"dataframe\">\n",
       "  <thead>\n",
       "    <tr style=\"text-align: right;\">\n",
       "      <th></th>\n",
       "      <th>Tweet</th>\n",
       "    </tr>\n",
       "  </thead>\n",
       "  <tbody>\n",
       "    <tr>\n",
       "      <th>0</th>\n",
       "      <td>50 Cent has 24 TV shows across 10 different ne...</td>\n",
       "    </tr>\n",
       "    <tr>\n",
       "      <th>1</th>\n",
       "      <td>It’s officially an epidemic 🤣🤣 https://t.co/SM...</td>\n",
       "    </tr>\n",
       "    <tr>\n",
       "      <th>2</th>\n",
       "      <td>There’s not a player in the world that I disli...</td>\n",
       "    </tr>\n",
       "    <tr>\n",
       "      <th>3</th>\n",
       "      <td>See counter attack!! Martinelli!!! We keep fig...</td>\n",
       "    </tr>\n",
       "    <tr>\n",
       "      <th>4</th>\n",
       "      <td>GOALLLLLLLLL.. WINNER!!!!!! WHAT A GOAL!!</td>\n",
       "    </tr>\n",
       "  </tbody>\n",
       "</table>\n",
       "</div>"
      ],
      "text/plain": [
       "                                               Tweet\n",
       "0  50 Cent has 24 TV shows across 10 different ne...\n",
       "1  It’s officially an epidemic 🤣🤣 https://t.co/SM...\n",
       "2  There’s not a player in the world that I disli...\n",
       "3  See counter attack!! Martinelli!!! We keep fig...\n",
       "4          GOALLLLLLLLL.. WINNER!!!!!! WHAT A GOAL!!"
      ]
     },
     "execution_count": 6,
     "metadata": {},
     "output_type": "execute_result"
    }
   ],
   "source": [
    "api = twitter_auth()\n",
    "\n",
    "tweet_data = get_tweets(api)\n",
    "tweet_data.head()"
   ]
  },
  {
   "cell_type": "code",
   "execution_count": 7,
   "id": "4d363b5e",
   "metadata": {},
   "outputs": [
    {
     "data": {
      "text/html": [
       "<div>\n",
       "<style scoped>\n",
       "    .dataframe tbody tr th:only-of-type {\n",
       "        vertical-align: middle;\n",
       "    }\n",
       "\n",
       "    .dataframe tbody tr th {\n",
       "        vertical-align: top;\n",
       "    }\n",
       "\n",
       "    .dataframe thead th {\n",
       "        text-align: right;\n",
       "    }\n",
       "</style>\n",
       "<table border=\"1\" class=\"dataframe\">\n",
       "  <thead>\n",
       "    <tr style=\"text-align: right;\">\n",
       "      <th></th>\n",
       "      <th>Tweet</th>\n",
       "    </tr>\n",
       "  </thead>\n",
       "  <tbody>\n",
       "    <tr>\n",
       "      <th>0</th>\n",
       "      <td>50 Cent has 24 TV shows across 10 different ne...</td>\n",
       "    </tr>\n",
       "    <tr>\n",
       "      <th>1</th>\n",
       "      <td>It’s officially an epidemic</td>\n",
       "    </tr>\n",
       "    <tr>\n",
       "      <th>2</th>\n",
       "      <td>There’s not a player in the world that I disli...</td>\n",
       "    </tr>\n",
       "    <tr>\n",
       "      <th>3</th>\n",
       "      <td>See counter attack!! Martinelli!!! We keep fig...</td>\n",
       "    </tr>\n",
       "    <tr>\n",
       "      <th>4</th>\n",
       "      <td>GOALLLLLLLLL.. WINNER!!!!!! WHAT A GOAL!!</td>\n",
       "    </tr>\n",
       "  </tbody>\n",
       "</table>\n",
       "</div>"
      ],
      "text/plain": [
       "                                               Tweet\n",
       "0  50 Cent has 24 TV shows across 10 different ne...\n",
       "1                       It’s officially an epidemic \n",
       "2  There’s not a player in the world that I disli...\n",
       "3  See counter attack!! Martinelli!!! We keep fig...\n",
       "4          GOALLLLLLLLL.. WINNER!!!!!! WHAT A GOAL!!"
      ]
     },
     "execution_count": 7,
     "metadata": {},
     "output_type": "execute_result"
    }
   ],
   "source": [
    "tweet_data['Tweet'] = tweet_data['Tweet'].map(lambda x: tweet_cleaner(x))\n",
    "tweet_data.to_csv('Data/twitter_data.csv') # save twitter data as a csv file\n",
    "tweet_data.head()"
   ]
  }
 ],
 "metadata": {
  "kernelspec": {
   "display_name": "Python 3 (ipykernel)",
   "language": "python",
   "name": "python3"
  },
  "language_info": {
   "codemirror_mode": {
    "name": "ipython",
    "version": 3
   },
   "file_extension": ".py",
   "mimetype": "text/x-python",
   "name": "python",
   "nbconvert_exporter": "python",
   "pygments_lexer": "ipython3",
   "version": "3.9.13"
  }
 },
 "nbformat": 4,
 "nbformat_minor": 5
}
