{
 "cells": [
  {
   "cell_type": "code",
   "execution_count": 1,
   "id": "3955f75f",
   "metadata": {
    "colab": {
     "base_uri": "https://localhost:8080/"
    },
    "executionInfo": {
     "elapsed": 6365,
     "status": "ok",
     "timestamp": 1678951361939,
     "user": {
      "displayName": "Glory Odeyemi",
      "userId": "04491820538436953732"
     },
     "user_tz": 240
    },
    "id": "3955f75f",
    "outputId": "b57a39ee-c51a-4b71-e2c8-6478c238fff5"
   },
   "outputs": [
    {
     "name": "stdout",
     "output_type": "stream",
     "text": [
      "Requirement already satisfied: lingua-language-detector==1.1.0 in /Users/new/opt/anaconda3/lib/python3.9/site-packages (1.1.0)\r\n",
      "Requirement already satisfied: regex<2023.0.0,>=2022.8.17 in /Users/new/opt/anaconda3/lib/python3.9/site-packages (from lingua-language-detector==1.1.0) (2022.10.31)\r\n",
      "Requirement already satisfied: numpy<2.0.0,>=1.23.2 in /Users/new/opt/anaconda3/lib/python3.9/site-packages (from lingua-language-detector==1.1.0) (1.24.2)\r\n"
     ]
    },
    {
     "name": "stderr",
     "output_type": "stream",
     "text": [
      "[nltk_data] Downloading package punkt to /Users/new/nltk_data...\n",
      "[nltk_data]   Package punkt is already up-to-date!\n",
      "[nltk_data] Downloading package wordnet to /Users/new/nltk_data...\n",
      "[nltk_data]   Package wordnet is already up-to-date!\n",
      "[nltk_data] Downloading package omw-1.4 to /Users/new/nltk_data...\n",
      "[nltk_data]   Package omw-1.4 is already up-to-date!\n",
      "[nltk_data] Downloading package averaged_perceptron_tagger to\n",
      "[nltk_data]     /Users/new/nltk_data...\n",
      "[nltk_data]   Package averaged_perceptron_tagger is already up-to-\n",
      "[nltk_data]       date!\n",
      "[nltk_data] Downloading package maxent_ne_chunker to\n",
      "[nltk_data]     /Users/new/nltk_data...\n",
      "[nltk_data]   Package maxent_ne_chunker is already up-to-date!\n",
      "[nltk_data] Downloading package words to /Users/new/nltk_data...\n",
      "[nltk_data]   Package words is already up-to-date!\n"
     ]
    }
   ],
   "source": [
    "import pandas as pd\n",
    "from utils.analysis import *"
   ]
  },
  {
   "cell_type": "code",
   "execution_count": 2,
   "id": "73663428",
   "metadata": {
    "colab": {
     "base_uri": "https://localhost:8080/",
     "height": 206
    },
    "executionInfo": {
     "elapsed": 746,
     "status": "ok",
     "timestamp": 1678951396015,
     "user": {
      "displayName": "Glory Odeyemi",
      "userId": "04491820538436953732"
     },
     "user_tz": 240
    },
    "id": "73663428",
    "outputId": "f2e8ae37-adaa-481e-e580-70854232fa67"
   },
   "outputs": [
    {
     "data": {
      "text/html": [
       "<div>\n",
       "<style scoped>\n",
       "    .dataframe tbody tr th:only-of-type {\n",
       "        vertical-align: middle;\n",
       "    }\n",
       "\n",
       "    .dataframe tbody tr th {\n",
       "        vertical-align: top;\n",
       "    }\n",
       "\n",
       "    .dataframe thead th {\n",
       "        text-align: right;\n",
       "    }\n",
       "</style>\n",
       "<table border=\"1\" class=\"dataframe\">\n",
       "  <thead>\n",
       "    <tr style=\"text-align: right;\">\n",
       "      <th></th>\n",
       "      <th>Tweets</th>\n",
       "      <th>Eng_source</th>\n",
       "      <th>Summary</th>\n",
       "    </tr>\n",
       "  </thead>\n",
       "  <tbody>\n",
       "    <tr>\n",
       "      <th>0</th>\n",
       "      <td>Wildlife photography lo shi ma pada shey</td>\n",
       "      <td>You will still end up doing wildlife photography</td>\n",
       "      <td>You will continue to photograph wildlife.</td>\n",
       "    </tr>\n",
       "    <tr>\n",
       "      <th>1</th>\n",
       "      <td>E wa wo Wayray yii o  steady</td>\n",
       "      <td>Come and see this mad person is not steady</td>\n",
       "      <td>Come see; this insane person is unstable.</td>\n",
       "    </tr>\n",
       "    <tr>\n",
       "      <th>2</th>\n",
       "      <td>So what am I getting for Valentine's bayii?</td>\n",
       "      <td>So what am I getting for Valentine's now?</td>\n",
       "      <td>So, what am I getting for Valentine's now?</td>\n",
       "    </tr>\n",
       "    <tr>\n",
       "      <th>3</th>\n",
       "      <td>THIS IS WHY EVERYONE WHO JAPA IS NOW A CONTENT...</td>\n",
       "      <td>THIS IS WHY EVERYONE WHO RELOCATES IS NOW A CO...</td>\n",
       "      <td>Reasons why those who relocate becomes content...</td>\n",
       "    </tr>\n",
       "    <tr>\n",
       "      <th>4</th>\n",
       "      <td>Oga mi sir!!</td>\n",
       "      <td>My boss sir!!</td>\n",
       "      <td>My boss sir!</td>\n",
       "    </tr>\n",
       "  </tbody>\n",
       "</table>\n",
       "</div>"
      ],
      "text/plain": [
       "                                              Tweets  \\\n",
       "0           Wildlife photography lo shi ma pada shey   \n",
       "1                       E wa wo Wayray yii o  steady   \n",
       "2        So what am I getting for Valentine's bayii?   \n",
       "3  THIS IS WHY EVERYONE WHO JAPA IS NOW A CONTENT...   \n",
       "4                                       Oga mi sir!!   \n",
       "\n",
       "                                          Eng_source  \\\n",
       "0   You will still end up doing wildlife photography   \n",
       "1         Come and see this mad person is not steady   \n",
       "2          So what am I getting for Valentine's now?   \n",
       "3  THIS IS WHY EVERYONE WHO RELOCATES IS NOW A CO...   \n",
       "4                                      My boss sir!!   \n",
       "\n",
       "                                             Summary  \n",
       "0          You will continue to photograph wildlife.  \n",
       "1          Come see; this insane person is unstable.  \n",
       "2         So, what am I getting for Valentine's now?  \n",
       "3  Reasons why those who relocate becomes content...  \n",
       "4                                       My boss sir!  "
      ]
     },
     "execution_count": 2,
     "metadata": {},
     "output_type": "execute_result"
    }
   ],
   "source": [
    "file_loc = \"Data/twitter_data.csv\"\n",
    "twitter_data = pd.read_csv(file_loc)\n",
    "twitter_data.head()"
   ]
  },
  {
   "cell_type": "code",
   "execution_count": 3,
   "id": "1953f9b9",
   "metadata": {
    "colab": {
     "base_uri": "https://localhost:8080/"
    },
    "executionInfo": {
     "elapsed": 94,
     "status": "ok",
     "timestamp": 1678951399544,
     "user": {
      "displayName": "Glory Odeyemi",
      "userId": "04491820538436953732"
     },
     "user_tz": 240
    },
    "id": "1953f9b9",
    "outputId": "5a3328af-8c8e-4b0d-a848-c9a96d6c696f"
   },
   "outputs": [
    {
     "data": {
      "text/plain": [
       "(66, 3)"
      ]
     },
     "execution_count": 3,
     "metadata": {},
     "output_type": "execute_result"
    }
   ],
   "source": [
    "twitter_data.shape"
   ]
  },
  {
   "cell_type": "code",
   "execution_count": 4,
   "id": "Zau_Cml7OycZ",
   "metadata": {
    "colab": {
     "base_uri": "https://localhost:8080/",
     "height": 191
    },
    "executionInfo": {
     "elapsed": 277,
     "status": "ok",
     "timestamp": 1678951402651,
     "user": {
      "displayName": "Glory Odeyemi",
      "userId": "04491820538436953732"
     },
     "user_tz": 240
    },
    "id": "Zau_Cml7OycZ",
    "outputId": "8379d2e3-ed89-4d12-8766-ad6594732c4d"
   },
   "outputs": [
    {
     "data": {
      "text/html": [
       "<div>\n",
       "<style scoped>\n",
       "    .dataframe tbody tr th:only-of-type {\n",
       "        vertical-align: middle;\n",
       "    }\n",
       "\n",
       "    .dataframe tbody tr th {\n",
       "        vertical-align: top;\n",
       "    }\n",
       "\n",
       "    .dataframe thead th {\n",
       "        text-align: right;\n",
       "    }\n",
       "</style>\n",
       "<table border=\"1\" class=\"dataframe\">\n",
       "  <thead>\n",
       "    <tr style=\"text-align: right;\">\n",
       "      <th></th>\n",
       "      <th>Tweets</th>\n",
       "      <th>Eng_source</th>\n",
       "      <th>Summary</th>\n",
       "      <th>tokenized_tweet_sent</th>\n",
       "      <th>tokenized_eng_sent</th>\n",
       "    </tr>\n",
       "  </thead>\n",
       "  <tbody>\n",
       "    <tr>\n",
       "      <th>0</th>\n",
       "      <td>Wildlife photography lo shi ma pada shey</td>\n",
       "      <td>You will still end up doing wildlife photography</td>\n",
       "      <td>You will continue to photograph wildlife.</td>\n",
       "      <td>[wildlife photography lo shi ma pada shey]</td>\n",
       "      <td>[you will still end up doing wildlife photogra...</td>\n",
       "    </tr>\n",
       "    <tr>\n",
       "      <th>1</th>\n",
       "      <td>E wa wo Wayray yii o  steady</td>\n",
       "      <td>Come and see this mad person is not steady</td>\n",
       "      <td>Come see; this insane person is unstable.</td>\n",
       "      <td>[e wa wo wayray yii o  steady]</td>\n",
       "      <td>[come and see this mad person is not steady]</td>\n",
       "    </tr>\n",
       "  </tbody>\n",
       "</table>\n",
       "</div>"
      ],
      "text/plain": [
       "                                     Tweets  \\\n",
       "0  Wildlife photography lo shi ma pada shey   \n",
       "1              E wa wo Wayray yii o  steady   \n",
       "\n",
       "                                         Eng_source  \\\n",
       "0  You will still end up doing wildlife photography   \n",
       "1        Come and see this mad person is not steady   \n",
       "\n",
       "                                     Summary  \\\n",
       "0  You will continue to photograph wildlife.   \n",
       "1  Come see; this insane person is unstable.   \n",
       "\n",
       "                         tokenized_tweet_sent  \\\n",
       "0  [wildlife photography lo shi ma pada shey]   \n",
       "1              [e wa wo wayray yii o  steady]   \n",
       "\n",
       "                                  tokenized_eng_sent  \n",
       "0  [you will still end up doing wildlife photogra...  \n",
       "1       [come and see this mad person is not steady]  "
      ]
     },
     "execution_count": 4,
     "metadata": {},
     "output_type": "execute_result"
    }
   ],
   "source": [
    "# tokenize sentence\n",
    "twitter_data['tokenized_tweet_sent']= twitter_data['Tweets'].apply(lambda x: tokenize_sent(x))\n",
    "twitter_data['tokenized_eng_sent']= twitter_data['Eng_source'].apply(lambda x: tokenize_sent(x))\n",
    "twitter_data.head(2)"
   ]
  },
  {
   "cell_type": "code",
   "execution_count": 5,
   "id": "4a6e6d87",
   "metadata": {
    "colab": {
     "base_uri": "https://localhost:8080/",
     "height": 191
    },
    "executionInfo": {
     "elapsed": 4,
     "status": "ok",
     "timestamp": 1678951418673,
     "user": {
      "displayName": "Glory Odeyemi",
      "userId": "04491820538436953732"
     },
     "user_tz": 240
    },
    "id": "4a6e6d87",
    "outputId": "6c2234a9-e71f-4aee-c4ea-e5702166f03b"
   },
   "outputs": [
    {
     "data": {
      "text/html": [
       "<div>\n",
       "<style scoped>\n",
       "    .dataframe tbody tr th:only-of-type {\n",
       "        vertical-align: middle;\n",
       "    }\n",
       "\n",
       "    .dataframe tbody tr th {\n",
       "        vertical-align: top;\n",
       "    }\n",
       "\n",
       "    .dataframe thead th {\n",
       "        text-align: right;\n",
       "    }\n",
       "</style>\n",
       "<table border=\"1\" class=\"dataframe\">\n",
       "  <thead>\n",
       "    <tr style=\"text-align: right;\">\n",
       "      <th></th>\n",
       "      <th>Tweets</th>\n",
       "      <th>Eng_source</th>\n",
       "      <th>Summary</th>\n",
       "      <th>tokenized_tweet_sent</th>\n",
       "      <th>tokenized_eng_sent</th>\n",
       "      <th>sum_sent_count</th>\n",
       "      <th>tweet_sent_count</th>\n",
       "      <th>eng_sent_count</th>\n",
       "    </tr>\n",
       "  </thead>\n",
       "  <tbody>\n",
       "    <tr>\n",
       "      <th>0</th>\n",
       "      <td>Wildlife photography lo shi ma pada shey</td>\n",
       "      <td>You will still end up doing wildlife photography</td>\n",
       "      <td>You will continue to photograph wildlife.</td>\n",
       "      <td>[wildlife photography lo shi ma pada shey]</td>\n",
       "      <td>[you will still end up doing wildlife photogra...</td>\n",
       "      <td>1</td>\n",
       "      <td>1</td>\n",
       "      <td>1</td>\n",
       "    </tr>\n",
       "    <tr>\n",
       "      <th>1</th>\n",
       "      <td>E wa wo Wayray yii o  steady</td>\n",
       "      <td>Come and see this mad person is not steady</td>\n",
       "      <td>Come see; this insane person is unstable.</td>\n",
       "      <td>[e wa wo wayray yii o  steady]</td>\n",
       "      <td>[come and see this mad person is not steady]</td>\n",
       "      <td>1</td>\n",
       "      <td>1</td>\n",
       "      <td>1</td>\n",
       "    </tr>\n",
       "  </tbody>\n",
       "</table>\n",
       "</div>"
      ],
      "text/plain": [
       "                                     Tweets  \\\n",
       "0  Wildlife photography lo shi ma pada shey   \n",
       "1              E wa wo Wayray yii o  steady   \n",
       "\n",
       "                                         Eng_source  \\\n",
       "0  You will still end up doing wildlife photography   \n",
       "1        Come and see this mad person is not steady   \n",
       "\n",
       "                                     Summary  \\\n",
       "0  You will continue to photograph wildlife.   \n",
       "1  Come see; this insane person is unstable.   \n",
       "\n",
       "                         tokenized_tweet_sent  \\\n",
       "0  [wildlife photography lo shi ma pada shey]   \n",
       "1              [e wa wo wayray yii o  steady]   \n",
       "\n",
       "                                  tokenized_eng_sent  sum_sent_count  \\\n",
       "0  [you will still end up doing wildlife photogra...               1   \n",
       "1       [come and see this mad person is not steady]               1   \n",
       "\n",
       "   tweet_sent_count  eng_sent_count  \n",
       "0                 1               1  \n",
       "1                 1               1  "
      ]
     },
     "execution_count": 5,
     "metadata": {},
     "output_type": "execute_result"
    }
   ],
   "source": [
    "# Create a new variable containing the number of sentences in the summary, tweet, and english text\n",
    "twitter_data['sum_sent_count'] = twitter_data['Summary'].apply(lambda x : count_sents(x))\n",
    "twitter_data['tweet_sent_count'] = twitter_data['Tweets'].apply(lambda x : count_sents(x))\n",
    "twitter_data['eng_sent_count'] = twitter_data['Eng_source'].apply(lambda x : count_sents(x))\n",
    "\n",
    "twitter_data.head(2)"
   ]
  },
  {
   "cell_type": "code",
   "execution_count": 6,
   "id": "3cfc6277",
   "metadata": {
    "colab": {
     "base_uri": "https://localhost:8080/",
     "height": 280
    },
    "executionInfo": {
     "elapsed": 121,
     "status": "ok",
     "timestamp": 1678951430188,
     "user": {
      "displayName": "Glory Odeyemi",
      "userId": "04491820538436953732"
     },
     "user_tz": 240
    },
    "id": "3cfc6277",
    "outputId": "c5eb1bef-8d95-4f14-d82d-21601e82efaf"
   },
   "outputs": [
    {
     "data": {
      "text/html": [
       "<div>\n",
       "<style scoped>\n",
       "    .dataframe tbody tr th:only-of-type {\n",
       "        vertical-align: middle;\n",
       "    }\n",
       "\n",
       "    .dataframe tbody tr th {\n",
       "        vertical-align: top;\n",
       "    }\n",
       "\n",
       "    .dataframe thead th {\n",
       "        text-align: right;\n",
       "    }\n",
       "</style>\n",
       "<table border=\"1\" class=\"dataframe\">\n",
       "  <thead>\n",
       "    <tr style=\"text-align: right;\">\n",
       "      <th></th>\n",
       "      <th>Tweets</th>\n",
       "      <th>Eng_source</th>\n",
       "      <th>Summary</th>\n",
       "      <th>tokenized_tweet_sent</th>\n",
       "      <th>tokenized_eng_sent</th>\n",
       "      <th>sum_sent_count</th>\n",
       "      <th>tweet_sent_count</th>\n",
       "      <th>eng_sent_count</th>\n",
       "      <th>sum_char_count</th>\n",
       "      <th>tweet_char_count</th>\n",
       "      <th>eng_char_count</th>\n",
       "    </tr>\n",
       "  </thead>\n",
       "  <tbody>\n",
       "    <tr>\n",
       "      <th>0</th>\n",
       "      <td>Wildlife photography lo shi ma pada shey</td>\n",
       "      <td>You will still end up doing wildlife photography</td>\n",
       "      <td>You will continue to photograph wildlife.</td>\n",
       "      <td>[wildlife photography lo shi ma pada shey]</td>\n",
       "      <td>[you will still end up doing wildlife photogra...</td>\n",
       "      <td>1</td>\n",
       "      <td>1</td>\n",
       "      <td>1</td>\n",
       "      <td>36</td>\n",
       "      <td>34</td>\n",
       "      <td>41</td>\n",
       "    </tr>\n",
       "    <tr>\n",
       "      <th>1</th>\n",
       "      <td>E wa wo Wayray yii o  steady</td>\n",
       "      <td>Come and see this mad person is not steady</td>\n",
       "      <td>Come see; this insane person is unstable.</td>\n",
       "      <td>[e wa wo wayray yii o  steady]</td>\n",
       "      <td>[come and see this mad person is not steady]</td>\n",
       "      <td>1</td>\n",
       "      <td>1</td>\n",
       "      <td>1</td>\n",
       "      <td>35</td>\n",
       "      <td>21</td>\n",
       "      <td>34</td>\n",
       "    </tr>\n",
       "  </tbody>\n",
       "</table>\n",
       "</div>"
      ],
      "text/plain": [
       "                                     Tweets  \\\n",
       "0  Wildlife photography lo shi ma pada shey   \n",
       "1              E wa wo Wayray yii o  steady   \n",
       "\n",
       "                                         Eng_source  \\\n",
       "0  You will still end up doing wildlife photography   \n",
       "1        Come and see this mad person is not steady   \n",
       "\n",
       "                                     Summary  \\\n",
       "0  You will continue to photograph wildlife.   \n",
       "1  Come see; this insane person is unstable.   \n",
       "\n",
       "                         tokenized_tweet_sent  \\\n",
       "0  [wildlife photography lo shi ma pada shey]   \n",
       "1              [e wa wo wayray yii o  steady]   \n",
       "\n",
       "                                  tokenized_eng_sent  sum_sent_count  \\\n",
       "0  [you will still end up doing wildlife photogra...               1   \n",
       "1       [come and see this mad person is not steady]               1   \n",
       "\n",
       "   tweet_sent_count  eng_sent_count  sum_char_count  tweet_char_count  \\\n",
       "0                 1               1              36                34   \n",
       "1                 1               1              35                21   \n",
       "\n",
       "   eng_char_count  \n",
       "0              41  \n",
       "1              34  "
      ]
     },
     "execution_count": 6,
     "metadata": {},
     "output_type": "execute_result"
    }
   ],
   "source": [
    "# Create a new variable containing the number of characters in the summary, tweet, and english text\n",
    "twitter_data['sum_char_count'] = twitter_data['Summary'].apply(lambda x : count_chars(x))\n",
    "twitter_data['tweet_char_count'] = twitter_data['Tweets'].apply(lambda x : count_chars(x))\n",
    "twitter_data['eng_char_count'] = twitter_data['Eng_source'].apply(lambda x : count_chars(x))\n",
    "\n",
    "twitter_data.head(2)"
   ]
  },
  {
   "cell_type": "code",
   "execution_count": 7,
   "id": "82a188c5",
   "metadata": {
    "colab": {
     "base_uri": "https://localhost:8080/",
     "height": 280
    },
    "executionInfo": {
     "elapsed": 152,
     "status": "ok",
     "timestamp": 1678951434535,
     "user": {
      "displayName": "Glory Odeyemi",
      "userId": "04491820538436953732"
     },
     "user_tz": 240
    },
    "id": "82a188c5",
    "outputId": "dff5fe6a-bee2-47d1-deb4-a2b1c81c67e6"
   },
   "outputs": [
    {
     "data": {
      "text/html": [
       "<div>\n",
       "<style scoped>\n",
       "    .dataframe tbody tr th:only-of-type {\n",
       "        vertical-align: middle;\n",
       "    }\n",
       "\n",
       "    .dataframe tbody tr th {\n",
       "        vertical-align: top;\n",
       "    }\n",
       "\n",
       "    .dataframe thead th {\n",
       "        text-align: right;\n",
       "    }\n",
       "</style>\n",
       "<table border=\"1\" class=\"dataframe\">\n",
       "  <thead>\n",
       "    <tr style=\"text-align: right;\">\n",
       "      <th></th>\n",
       "      <th>Tweets</th>\n",
       "      <th>Eng_source</th>\n",
       "      <th>Summary</th>\n",
       "      <th>tokenized_tweet_sent</th>\n",
       "      <th>tokenized_eng_sent</th>\n",
       "      <th>sum_sent_count</th>\n",
       "      <th>tweet_sent_count</th>\n",
       "      <th>eng_sent_count</th>\n",
       "      <th>sum_char_count</th>\n",
       "      <th>tweet_char_count</th>\n",
       "      <th>eng_char_count</th>\n",
       "      <th>sum_punc_count</th>\n",
       "      <th>tweet_punc_count</th>\n",
       "      <th>eng_punc_count</th>\n",
       "    </tr>\n",
       "  </thead>\n",
       "  <tbody>\n",
       "    <tr>\n",
       "      <th>0</th>\n",
       "      <td>Wildlife photography lo shi ma pada shey</td>\n",
       "      <td>You will still end up doing wildlife photography</td>\n",
       "      <td>You will continue to photograph wildlife.</td>\n",
       "      <td>[wildlife photography lo shi ma pada shey]</td>\n",
       "      <td>[you will still end up doing wildlife photogra...</td>\n",
       "      <td>1</td>\n",
       "      <td>1</td>\n",
       "      <td>1</td>\n",
       "      <td>36</td>\n",
       "      <td>34</td>\n",
       "      <td>41</td>\n",
       "      <td>1</td>\n",
       "      <td>0</td>\n",
       "      <td>0</td>\n",
       "    </tr>\n",
       "    <tr>\n",
       "      <th>1</th>\n",
       "      <td>E wa wo Wayray yii o  steady</td>\n",
       "      <td>Come and see this mad person is not steady</td>\n",
       "      <td>Come see; this insane person is unstable.</td>\n",
       "      <td>[e wa wo wayray yii o  steady]</td>\n",
       "      <td>[come and see this mad person is not steady]</td>\n",
       "      <td>1</td>\n",
       "      <td>1</td>\n",
       "      <td>1</td>\n",
       "      <td>35</td>\n",
       "      <td>21</td>\n",
       "      <td>34</td>\n",
       "      <td>2</td>\n",
       "      <td>0</td>\n",
       "      <td>0</td>\n",
       "    </tr>\n",
       "  </tbody>\n",
       "</table>\n",
       "</div>"
      ],
      "text/plain": [
       "                                     Tweets  \\\n",
       "0  Wildlife photography lo shi ma pada shey   \n",
       "1              E wa wo Wayray yii o  steady   \n",
       "\n",
       "                                         Eng_source  \\\n",
       "0  You will still end up doing wildlife photography   \n",
       "1        Come and see this mad person is not steady   \n",
       "\n",
       "                                     Summary  \\\n",
       "0  You will continue to photograph wildlife.   \n",
       "1  Come see; this insane person is unstable.   \n",
       "\n",
       "                         tokenized_tweet_sent  \\\n",
       "0  [wildlife photography lo shi ma pada shey]   \n",
       "1              [e wa wo wayray yii o  steady]   \n",
       "\n",
       "                                  tokenized_eng_sent  sum_sent_count  \\\n",
       "0  [you will still end up doing wildlife photogra...               1   \n",
       "1       [come and see this mad person is not steady]               1   \n",
       "\n",
       "   tweet_sent_count  eng_sent_count  sum_char_count  tweet_char_count  \\\n",
       "0                 1               1              36                34   \n",
       "1                 1               1              35                21   \n",
       "\n",
       "   eng_char_count  sum_punc_count  tweet_punc_count  eng_punc_count  \n",
       "0              41               1                 0               0  \n",
       "1              34               2                 0               0  "
      ]
     },
     "execution_count": 7,
     "metadata": {},
     "output_type": "execute_result"
    }
   ],
   "source": [
    "# Create a new variable containing the number of punctuations in the summary, tweet, and english text\n",
    "twitter_data['sum_punc_count'] = twitter_data['Summary'].apply(lambda x : count_punc(x))\n",
    "twitter_data['tweet_punc_count'] = twitter_data['Tweets'].apply(lambda x : count_punc(x))\n",
    "twitter_data['eng_punc_count'] = twitter_data['Eng_source'].apply(lambda x : count_punc(x))\n",
    "\n",
    "twitter_data.head(2)"
   ]
  },
  {
   "cell_type": "code",
   "execution_count": 8,
   "id": "2407e7d0",
   "metadata": {
    "colab": {
     "base_uri": "https://localhost:8080/",
     "height": 280
    },
    "executionInfo": {
     "elapsed": 160,
     "status": "ok",
     "timestamp": 1678951444876,
     "user": {
      "displayName": "Glory Odeyemi",
      "userId": "04491820538436953732"
     },
     "user_tz": 240
    },
    "id": "2407e7d0",
    "outputId": "f277a44f-6955-4734-a197-55419e74c9eb"
   },
   "outputs": [
    {
     "data": {
      "text/html": [
       "<div>\n",
       "<style scoped>\n",
       "    .dataframe tbody tr th:only-of-type {\n",
       "        vertical-align: middle;\n",
       "    }\n",
       "\n",
       "    .dataframe tbody tr th {\n",
       "        vertical-align: top;\n",
       "    }\n",
       "\n",
       "    .dataframe thead th {\n",
       "        text-align: right;\n",
       "    }\n",
       "</style>\n",
       "<table border=\"1\" class=\"dataframe\">\n",
       "  <thead>\n",
       "    <tr style=\"text-align: right;\">\n",
       "      <th></th>\n",
       "      <th>Tweets</th>\n",
       "      <th>Eng_source</th>\n",
       "      <th>Summary</th>\n",
       "      <th>tokenized_tweet_sent</th>\n",
       "      <th>tokenized_eng_sent</th>\n",
       "      <th>sum_sent_count</th>\n",
       "      <th>tweet_sent_count</th>\n",
       "      <th>eng_sent_count</th>\n",
       "      <th>sum_char_count</th>\n",
       "      <th>tweet_char_count</th>\n",
       "      <th>eng_char_count</th>\n",
       "      <th>sum_punc_count</th>\n",
       "      <th>tweet_punc_count</th>\n",
       "      <th>eng_punc_count</th>\n",
       "      <th>tweet_without_punc</th>\n",
       "      <th>eng_without_punc</th>\n",
       "      <th>sum_without_punc</th>\n",
       "    </tr>\n",
       "  </thead>\n",
       "  <tbody>\n",
       "    <tr>\n",
       "      <th>0</th>\n",
       "      <td>Wildlife photography lo shi ma pada shey</td>\n",
       "      <td>You will still end up doing wildlife photography</td>\n",
       "      <td>You will continue to photograph wildlife.</td>\n",
       "      <td>[wildlife photography lo shi ma pada shey]</td>\n",
       "      <td>[you will still end up doing wildlife photogra...</td>\n",
       "      <td>1</td>\n",
       "      <td>1</td>\n",
       "      <td>1</td>\n",
       "      <td>36</td>\n",
       "      <td>34</td>\n",
       "      <td>41</td>\n",
       "      <td>1</td>\n",
       "      <td>0</td>\n",
       "      <td>0</td>\n",
       "      <td>Wildlife photography lo shi ma pada shey</td>\n",
       "      <td>You will still end up doing wildlife photography</td>\n",
       "      <td>You will continue to photograph wildlife</td>\n",
       "    </tr>\n",
       "    <tr>\n",
       "      <th>1</th>\n",
       "      <td>E wa wo Wayray yii o  steady</td>\n",
       "      <td>Come and see this mad person is not steady</td>\n",
       "      <td>Come see; this insane person is unstable.</td>\n",
       "      <td>[e wa wo wayray yii o  steady]</td>\n",
       "      <td>[come and see this mad person is not steady]</td>\n",
       "      <td>1</td>\n",
       "      <td>1</td>\n",
       "      <td>1</td>\n",
       "      <td>35</td>\n",
       "      <td>21</td>\n",
       "      <td>34</td>\n",
       "      <td>2</td>\n",
       "      <td>0</td>\n",
       "      <td>0</td>\n",
       "      <td>E wa wo Wayray yii o  steady</td>\n",
       "      <td>Come and see this mad person is not steady</td>\n",
       "      <td>Come see this insane person is unstable</td>\n",
       "    </tr>\n",
       "  </tbody>\n",
       "</table>\n",
       "</div>"
      ],
      "text/plain": [
       "                                     Tweets  \\\n",
       "0  Wildlife photography lo shi ma pada shey   \n",
       "1              E wa wo Wayray yii o  steady   \n",
       "\n",
       "                                         Eng_source  \\\n",
       "0  You will still end up doing wildlife photography   \n",
       "1        Come and see this mad person is not steady   \n",
       "\n",
       "                                     Summary  \\\n",
       "0  You will continue to photograph wildlife.   \n",
       "1  Come see; this insane person is unstable.   \n",
       "\n",
       "                         tokenized_tweet_sent  \\\n",
       "0  [wildlife photography lo shi ma pada shey]   \n",
       "1              [e wa wo wayray yii o  steady]   \n",
       "\n",
       "                                  tokenized_eng_sent  sum_sent_count  \\\n",
       "0  [you will still end up doing wildlife photogra...               1   \n",
       "1       [come and see this mad person is not steady]               1   \n",
       "\n",
       "   tweet_sent_count  eng_sent_count  sum_char_count  tweet_char_count  \\\n",
       "0                 1               1              36                34   \n",
       "1                 1               1              35                21   \n",
       "\n",
       "   eng_char_count  sum_punc_count  tweet_punc_count  eng_punc_count  \\\n",
       "0              41               1                 0               0   \n",
       "1              34               2                 0               0   \n",
       "\n",
       "                         tweet_without_punc  \\\n",
       "0  Wildlife photography lo shi ma pada shey   \n",
       "1              E wa wo Wayray yii o  steady   \n",
       "\n",
       "                                   eng_without_punc  \\\n",
       "0  You will still end up doing wildlife photography   \n",
       "1        Come and see this mad person is not steady   \n",
       "\n",
       "                           sum_without_punc  \n",
       "0  You will continue to photograph wildlife  \n",
       "1   Come see this insane person is unstable  "
      ]
     },
     "execution_count": 8,
     "metadata": {},
     "output_type": "execute_result"
    }
   ],
   "source": [
    "# storing the puntuation free text\n",
    "twitter_data['tweet_without_punc'] = twitter_data['Tweets'].apply(lambda x: remove_punctuation(x))\n",
    "twitter_data['eng_without_punc'] = twitter_data['Eng_source'].apply(lambda x: remove_punctuation(x))\n",
    "twitter_data['sum_without_punc'] = twitter_data['Summary'].apply(lambda x: remove_punctuation(x))\n",
    "twitter_data.head(2)"
   ]
  },
  {
   "cell_type": "code",
   "execution_count": 9,
   "id": "b476ed91",
   "metadata": {
    "colab": {
     "base_uri": "https://localhost:8080/",
     "height": 280
    },
    "executionInfo": {
     "elapsed": 157,
     "status": "ok",
     "timestamp": 1678951484621,
     "user": {
      "displayName": "Glory Odeyemi",
      "userId": "04491820538436953732"
     },
     "user_tz": 240
    },
    "id": "b476ed91",
    "outputId": "9c6ff650-0d3b-4c6d-b4eb-c2dd24bddb44"
   },
   "outputs": [
    {
     "data": {
      "text/html": [
       "<div>\n",
       "<style scoped>\n",
       "    .dataframe tbody tr th:only-of-type {\n",
       "        vertical-align: middle;\n",
       "    }\n",
       "\n",
       "    .dataframe tbody tr th {\n",
       "        vertical-align: top;\n",
       "    }\n",
       "\n",
       "    .dataframe thead th {\n",
       "        text-align: right;\n",
       "    }\n",
       "</style>\n",
       "<table border=\"1\" class=\"dataframe\">\n",
       "  <thead>\n",
       "    <tr style=\"text-align: right;\">\n",
       "      <th></th>\n",
       "      <th>Tweets</th>\n",
       "      <th>Eng_source</th>\n",
       "      <th>Summary</th>\n",
       "      <th>tokenized_tweet_sent</th>\n",
       "      <th>tokenized_eng_sent</th>\n",
       "      <th>sum_sent_count</th>\n",
       "      <th>tweet_sent_count</th>\n",
       "      <th>eng_sent_count</th>\n",
       "      <th>sum_char_count</th>\n",
       "      <th>tweet_char_count</th>\n",
       "      <th>eng_char_count</th>\n",
       "      <th>sum_punc_count</th>\n",
       "      <th>tweet_punc_count</th>\n",
       "      <th>eng_punc_count</th>\n",
       "      <th>tweet_without_punc</th>\n",
       "      <th>eng_without_punc</th>\n",
       "      <th>sum_without_punc</th>\n",
       "      <th>tokenized_tweet</th>\n",
       "      <th>tokenized_eng</th>\n",
       "    </tr>\n",
       "  </thead>\n",
       "  <tbody>\n",
       "    <tr>\n",
       "      <th>0</th>\n",
       "      <td>Wildlife photography lo shi ma pada shey</td>\n",
       "      <td>You will still end up doing wildlife photography</td>\n",
       "      <td>You will continue to photograph wildlife.</td>\n",
       "      <td>[wildlife photography lo shi ma pada shey]</td>\n",
       "      <td>[you will still end up doing wildlife photogra...</td>\n",
       "      <td>1</td>\n",
       "      <td>1</td>\n",
       "      <td>1</td>\n",
       "      <td>36</td>\n",
       "      <td>34</td>\n",
       "      <td>41</td>\n",
       "      <td>1</td>\n",
       "      <td>0</td>\n",
       "      <td>0</td>\n",
       "      <td>Wildlife photography lo shi ma pada shey</td>\n",
       "      <td>You will still end up doing wildlife photography</td>\n",
       "      <td>You will continue to photograph wildlife</td>\n",
       "      <td>[wildlife, photography, lo, shi, ma, pada, shey]</td>\n",
       "      <td>[you, will, still, end, up, doing, wildlife, p...</td>\n",
       "    </tr>\n",
       "    <tr>\n",
       "      <th>1</th>\n",
       "      <td>E wa wo Wayray yii o  steady</td>\n",
       "      <td>Come and see this mad person is not steady</td>\n",
       "      <td>Come see; this insane person is unstable.</td>\n",
       "      <td>[e wa wo wayray yii o  steady]</td>\n",
       "      <td>[come and see this mad person is not steady]</td>\n",
       "      <td>1</td>\n",
       "      <td>1</td>\n",
       "      <td>1</td>\n",
       "      <td>35</td>\n",
       "      <td>21</td>\n",
       "      <td>34</td>\n",
       "      <td>2</td>\n",
       "      <td>0</td>\n",
       "      <td>0</td>\n",
       "      <td>E wa wo Wayray yii o  steady</td>\n",
       "      <td>Come and see this mad person is not steady</td>\n",
       "      <td>Come see this insane person is unstable</td>\n",
       "      <td>[e, wa, wo, wayray, yii, o, steady]</td>\n",
       "      <td>[come, and, see, this, mad, person, is, not, s...</td>\n",
       "    </tr>\n",
       "  </tbody>\n",
       "</table>\n",
       "</div>"
      ],
      "text/plain": [
       "                                     Tweets  \\\n",
       "0  Wildlife photography lo shi ma pada shey   \n",
       "1              E wa wo Wayray yii o  steady   \n",
       "\n",
       "                                         Eng_source  \\\n",
       "0  You will still end up doing wildlife photography   \n",
       "1        Come and see this mad person is not steady   \n",
       "\n",
       "                                     Summary  \\\n",
       "0  You will continue to photograph wildlife.   \n",
       "1  Come see; this insane person is unstable.   \n",
       "\n",
       "                         tokenized_tweet_sent  \\\n",
       "0  [wildlife photography lo shi ma pada shey]   \n",
       "1              [e wa wo wayray yii o  steady]   \n",
       "\n",
       "                                  tokenized_eng_sent  sum_sent_count  \\\n",
       "0  [you will still end up doing wildlife photogra...               1   \n",
       "1       [come and see this mad person is not steady]               1   \n",
       "\n",
       "   tweet_sent_count  eng_sent_count  sum_char_count  tweet_char_count  \\\n",
       "0                 1               1              36                34   \n",
       "1                 1               1              35                21   \n",
       "\n",
       "   eng_char_count  sum_punc_count  tweet_punc_count  eng_punc_count  \\\n",
       "0              41               1                 0               0   \n",
       "1              34               2                 0               0   \n",
       "\n",
       "                         tweet_without_punc  \\\n",
       "0  Wildlife photography lo shi ma pada shey   \n",
       "1              E wa wo Wayray yii o  steady   \n",
       "\n",
       "                                   eng_without_punc  \\\n",
       "0  You will still end up doing wildlife photography   \n",
       "1        Come and see this mad person is not steady   \n",
       "\n",
       "                           sum_without_punc  \\\n",
       "0  You will continue to photograph wildlife   \n",
       "1   Come see this insane person is unstable   \n",
       "\n",
       "                                    tokenized_tweet  \\\n",
       "0  [wildlife, photography, lo, shi, ma, pada, shey]   \n",
       "1               [e, wa, wo, wayray, yii, o, steady]   \n",
       "\n",
       "                                       tokenized_eng  \n",
       "0  [you, will, still, end, up, doing, wildlife, p...  \n",
       "1  [come, and, see, this, mad, person, is, not, s...  "
      ]
     },
     "execution_count": 9,
     "metadata": {},
     "output_type": "execute_result"
    }
   ],
   "source": [
    "# tokenize text\n",
    "twitter_data['tokenized_tweet']= twitter_data['tweet_without_punc'].apply(lambda x: tokenize_text(x))\n",
    "twitter_data['tokenized_eng']= twitter_data['eng_without_punc'].apply(lambda x: tokenize_text(x))\n",
    "twitter_data.head(2)"
   ]
  },
  {
   "cell_type": "code",
   "execution_count": 10,
   "id": "d21baa95",
   "metadata": {
    "colab": {
     "base_uri": "https://localhost:8080/",
     "height": 310
    },
    "executionInfo": {
     "elapsed": 181,
     "status": "ok",
     "timestamp": 1678951491011,
     "user": {
      "displayName": "Glory Odeyemi",
      "userId": "04491820538436953732"
     },
     "user_tz": 240
    },
    "id": "d21baa95",
    "outputId": "c93c6423-9d12-4105-9515-288a2d8764cd"
   },
   "outputs": [
    {
     "data": {
      "text/html": [
       "<div>\n",
       "<style scoped>\n",
       "    .dataframe tbody tr th:only-of-type {\n",
       "        vertical-align: middle;\n",
       "    }\n",
       "\n",
       "    .dataframe tbody tr th {\n",
       "        vertical-align: top;\n",
       "    }\n",
       "\n",
       "    .dataframe thead th {\n",
       "        text-align: right;\n",
       "    }\n",
       "</style>\n",
       "<table border=\"1\" class=\"dataframe\">\n",
       "  <thead>\n",
       "    <tr style=\"text-align: right;\">\n",
       "      <th></th>\n",
       "      <th>Tweets</th>\n",
       "      <th>Eng_source</th>\n",
       "      <th>Summary</th>\n",
       "      <th>tokenized_tweet_sent</th>\n",
       "      <th>tokenized_eng_sent</th>\n",
       "      <th>sum_sent_count</th>\n",
       "      <th>tweet_sent_count</th>\n",
       "      <th>eng_sent_count</th>\n",
       "      <th>sum_char_count</th>\n",
       "      <th>tweet_char_count</th>\n",
       "      <th>...</th>\n",
       "      <th>tweet_punc_count</th>\n",
       "      <th>eng_punc_count</th>\n",
       "      <th>tweet_without_punc</th>\n",
       "      <th>eng_without_punc</th>\n",
       "      <th>sum_without_punc</th>\n",
       "      <th>tokenized_tweet</th>\n",
       "      <th>tokenized_eng</th>\n",
       "      <th>sum_word_count</th>\n",
       "      <th>tweet_word_count</th>\n",
       "      <th>eng_word_count</th>\n",
       "    </tr>\n",
       "  </thead>\n",
       "  <tbody>\n",
       "    <tr>\n",
       "      <th>0</th>\n",
       "      <td>Wildlife photography lo shi ma pada shey</td>\n",
       "      <td>You will still end up doing wildlife photography</td>\n",
       "      <td>You will continue to photograph wildlife.</td>\n",
       "      <td>[wildlife photography lo shi ma pada shey]</td>\n",
       "      <td>[you will still end up doing wildlife photogra...</td>\n",
       "      <td>1</td>\n",
       "      <td>1</td>\n",
       "      <td>1</td>\n",
       "      <td>36</td>\n",
       "      <td>34</td>\n",
       "      <td>...</td>\n",
       "      <td>0</td>\n",
       "      <td>0</td>\n",
       "      <td>Wildlife photography lo shi ma pada shey</td>\n",
       "      <td>You will still end up doing wildlife photography</td>\n",
       "      <td>You will continue to photograph wildlife</td>\n",
       "      <td>[wildlife, photography, lo, shi, ma, pada, shey]</td>\n",
       "      <td>[you, will, still, end, up, doing, wildlife, p...</td>\n",
       "      <td>6</td>\n",
       "      <td>7</td>\n",
       "      <td>8</td>\n",
       "    </tr>\n",
       "    <tr>\n",
       "      <th>1</th>\n",
       "      <td>E wa wo Wayray yii o  steady</td>\n",
       "      <td>Come and see this mad person is not steady</td>\n",
       "      <td>Come see; this insane person is unstable.</td>\n",
       "      <td>[e wa wo wayray yii o  steady]</td>\n",
       "      <td>[come and see this mad person is not steady]</td>\n",
       "      <td>1</td>\n",
       "      <td>1</td>\n",
       "      <td>1</td>\n",
       "      <td>35</td>\n",
       "      <td>21</td>\n",
       "      <td>...</td>\n",
       "      <td>0</td>\n",
       "      <td>0</td>\n",
       "      <td>E wa wo Wayray yii o  steady</td>\n",
       "      <td>Come and see this mad person is not steady</td>\n",
       "      <td>Come see this insane person is unstable</td>\n",
       "      <td>[e, wa, wo, wayray, yii, o, steady]</td>\n",
       "      <td>[come, and, see, this, mad, person, is, not, s...</td>\n",
       "      <td>7</td>\n",
       "      <td>7</td>\n",
       "      <td>9</td>\n",
       "    </tr>\n",
       "  </tbody>\n",
       "</table>\n",
       "<p>2 rows × 22 columns</p>\n",
       "</div>"
      ],
      "text/plain": [
       "                                     Tweets  \\\n",
       "0  Wildlife photography lo shi ma pada shey   \n",
       "1              E wa wo Wayray yii o  steady   \n",
       "\n",
       "                                         Eng_source  \\\n",
       "0  You will still end up doing wildlife photography   \n",
       "1        Come and see this mad person is not steady   \n",
       "\n",
       "                                     Summary  \\\n",
       "0  You will continue to photograph wildlife.   \n",
       "1  Come see; this insane person is unstable.   \n",
       "\n",
       "                         tokenized_tweet_sent  \\\n",
       "0  [wildlife photography lo shi ma pada shey]   \n",
       "1              [e wa wo wayray yii o  steady]   \n",
       "\n",
       "                                  tokenized_eng_sent  sum_sent_count  \\\n",
       "0  [you will still end up doing wildlife photogra...               1   \n",
       "1       [come and see this mad person is not steady]               1   \n",
       "\n",
       "   tweet_sent_count  eng_sent_count  sum_char_count  tweet_char_count  ...  \\\n",
       "0                 1               1              36                34  ...   \n",
       "1                 1               1              35                21  ...   \n",
       "\n",
       "   tweet_punc_count  eng_punc_count                        tweet_without_punc  \\\n",
       "0                 0               0  Wildlife photography lo shi ma pada shey   \n",
       "1                 0               0              E wa wo Wayray yii o  steady   \n",
       "\n",
       "                                   eng_without_punc  \\\n",
       "0  You will still end up doing wildlife photography   \n",
       "1        Come and see this mad person is not steady   \n",
       "\n",
       "                           sum_without_punc  \\\n",
       "0  You will continue to photograph wildlife   \n",
       "1   Come see this insane person is unstable   \n",
       "\n",
       "                                    tokenized_tweet  \\\n",
       "0  [wildlife, photography, lo, shi, ma, pada, shey]   \n",
       "1               [e, wa, wo, wayray, yii, o, steady]   \n",
       "\n",
       "                                       tokenized_eng sum_word_count  \\\n",
       "0  [you, will, still, end, up, doing, wildlife, p...              6   \n",
       "1  [come, and, see, this, mad, person, is, not, s...              7   \n",
       "\n",
       "  tweet_word_count  eng_word_count  \n",
       "0                7               8  \n",
       "1                7               9  \n",
       "\n",
       "[2 rows x 22 columns]"
      ]
     },
     "execution_count": 10,
     "metadata": {},
     "output_type": "execute_result"
    }
   ],
   "source": [
    "# Create a new variable containing the number of words in the summary, tweet, and english text\n",
    "twitter_data['sum_word_count'] = twitter_data['sum_without_punc'].apply(lambda x : count_words(x))\n",
    "twitter_data['tweet_word_count'] = twitter_data['tweet_without_punc'].apply(lambda x : count_words(x))\n",
    "twitter_data['eng_word_count'] = twitter_data['eng_without_punc'].apply(lambda x : count_words(x))\n",
    "\n",
    "twitter_data.head(2)"
   ]
  },
  {
   "cell_type": "code",
   "execution_count": 11,
   "id": "ca7bd5a9",
   "metadata": {
    "colab": {
     "base_uri": "https://localhost:8080/",
     "height": 310
    },
    "executionInfo": {
     "elapsed": 400,
     "status": "ok",
     "timestamp": 1678951501106,
     "user": {
      "displayName": "Glory Odeyemi",
      "userId": "04491820538436953732"
     },
     "user_tz": 240
    },
    "id": "ca7bd5a9",
    "outputId": "a44eb597-8292-4ea2-f087-70a7dc0aae09"
   },
   "outputs": [
    {
     "data": {
      "text/html": [
       "<div>\n",
       "<style scoped>\n",
       "    .dataframe tbody tr th:only-of-type {\n",
       "        vertical-align: middle;\n",
       "    }\n",
       "\n",
       "    .dataframe tbody tr th {\n",
       "        vertical-align: top;\n",
       "    }\n",
       "\n",
       "    .dataframe thead th {\n",
       "        text-align: right;\n",
       "    }\n",
       "</style>\n",
       "<table border=\"1\" class=\"dataframe\">\n",
       "  <thead>\n",
       "    <tr style=\"text-align: right;\">\n",
       "      <th></th>\n",
       "      <th>Tweets</th>\n",
       "      <th>Eng_source</th>\n",
       "      <th>Summary</th>\n",
       "      <th>tokenized_tweet_sent</th>\n",
       "      <th>tokenized_eng_sent</th>\n",
       "      <th>sum_sent_count</th>\n",
       "      <th>tweet_sent_count</th>\n",
       "      <th>eng_sent_count</th>\n",
       "      <th>sum_char_count</th>\n",
       "      <th>tweet_char_count</th>\n",
       "      <th>...</th>\n",
       "      <th>eng_without_punc</th>\n",
       "      <th>sum_without_punc</th>\n",
       "      <th>tokenized_tweet</th>\n",
       "      <th>tokenized_eng</th>\n",
       "      <th>sum_word_count</th>\n",
       "      <th>tweet_word_count</th>\n",
       "      <th>eng_word_count</th>\n",
       "      <th>sum_word_density</th>\n",
       "      <th>tweet_word_density</th>\n",
       "      <th>eng_word_density</th>\n",
       "    </tr>\n",
       "  </thead>\n",
       "  <tbody>\n",
       "    <tr>\n",
       "      <th>0</th>\n",
       "      <td>Wildlife photography lo shi ma pada shey</td>\n",
       "      <td>You will still end up doing wildlife photography</td>\n",
       "      <td>You will continue to photograph wildlife.</td>\n",
       "      <td>[wildlife photography lo shi ma pada shey]</td>\n",
       "      <td>[you will still end up doing wildlife photogra...</td>\n",
       "      <td>1</td>\n",
       "      <td>1</td>\n",
       "      <td>1</td>\n",
       "      <td>36</td>\n",
       "      <td>34</td>\n",
       "      <td>...</td>\n",
       "      <td>You will still end up doing wildlife photography</td>\n",
       "      <td>You will continue to photograph wildlife</td>\n",
       "      <td>[wildlife, photography, lo, shi, ma, pada, shey]</td>\n",
       "      <td>[you, will, still, end, up, doing, wildlife, p...</td>\n",
       "      <td>6</td>\n",
       "      <td>7</td>\n",
       "      <td>8</td>\n",
       "      <td>0.162162</td>\n",
       "      <td>0.200000</td>\n",
       "      <td>0.190476</td>\n",
       "    </tr>\n",
       "    <tr>\n",
       "      <th>1</th>\n",
       "      <td>E wa wo Wayray yii o  steady</td>\n",
       "      <td>Come and see this mad person is not steady</td>\n",
       "      <td>Come see; this insane person is unstable.</td>\n",
       "      <td>[e wa wo wayray yii o  steady]</td>\n",
       "      <td>[come and see this mad person is not steady]</td>\n",
       "      <td>1</td>\n",
       "      <td>1</td>\n",
       "      <td>1</td>\n",
       "      <td>35</td>\n",
       "      <td>21</td>\n",
       "      <td>...</td>\n",
       "      <td>Come and see this mad person is not steady</td>\n",
       "      <td>Come see this insane person is unstable</td>\n",
       "      <td>[e, wa, wo, wayray, yii, o, steady]</td>\n",
       "      <td>[come, and, see, this, mad, person, is, not, s...</td>\n",
       "      <td>7</td>\n",
       "      <td>7</td>\n",
       "      <td>9</td>\n",
       "      <td>0.194444</td>\n",
       "      <td>0.318182</td>\n",
       "      <td>0.257143</td>\n",
       "    </tr>\n",
       "  </tbody>\n",
       "</table>\n",
       "<p>2 rows × 25 columns</p>\n",
       "</div>"
      ],
      "text/plain": [
       "                                     Tweets  \\\n",
       "0  Wildlife photography lo shi ma pada shey   \n",
       "1              E wa wo Wayray yii o  steady   \n",
       "\n",
       "                                         Eng_source  \\\n",
       "0  You will still end up doing wildlife photography   \n",
       "1        Come and see this mad person is not steady   \n",
       "\n",
       "                                     Summary  \\\n",
       "0  You will continue to photograph wildlife.   \n",
       "1  Come see; this insane person is unstable.   \n",
       "\n",
       "                         tokenized_tweet_sent  \\\n",
       "0  [wildlife photography lo shi ma pada shey]   \n",
       "1              [e wa wo wayray yii o  steady]   \n",
       "\n",
       "                                  tokenized_eng_sent  sum_sent_count  \\\n",
       "0  [you will still end up doing wildlife photogra...               1   \n",
       "1       [come and see this mad person is not steady]               1   \n",
       "\n",
       "   tweet_sent_count  eng_sent_count  sum_char_count  tweet_char_count  ...  \\\n",
       "0                 1               1              36                34  ...   \n",
       "1                 1               1              35                21  ...   \n",
       "\n",
       "                                   eng_without_punc  \\\n",
       "0  You will still end up doing wildlife photography   \n",
       "1        Come and see this mad person is not steady   \n",
       "\n",
       "                           sum_without_punc  \\\n",
       "0  You will continue to photograph wildlife   \n",
       "1   Come see this insane person is unstable   \n",
       "\n",
       "                                    tokenized_tweet  \\\n",
       "0  [wildlife, photography, lo, shi, ma, pada, shey]   \n",
       "1               [e, wa, wo, wayray, yii, o, steady]   \n",
       "\n",
       "                                       tokenized_eng sum_word_count  \\\n",
       "0  [you, will, still, end, up, doing, wildlife, p...              6   \n",
       "1  [come, and, see, this, mad, person, is, not, s...              7   \n",
       "\n",
       "  tweet_word_count eng_word_count sum_word_density tweet_word_density  \\\n",
       "0                7              8         0.162162           0.200000   \n",
       "1                7              9         0.194444           0.318182   \n",
       "\n",
       "   eng_word_density  \n",
       "0          0.190476  \n",
       "1          0.257143  \n",
       "\n",
       "[2 rows x 25 columns]"
      ]
     },
     "execution_count": 11,
     "metadata": {},
     "output_type": "execute_result"
    }
   ],
   "source": [
    "# Create a new variable containing the density of words in the summary, tweet, and english text\n",
    "twitter_data['sum_word_density'] = word_density(twitter_data, 'sum_word_count', 'sum_char_count')\n",
    "twitter_data['tweet_word_density'] = word_density(twitter_data, 'tweet_word_count', 'tweet_char_count')\n",
    "twitter_data['eng_word_density'] = word_density(twitter_data, 'eng_word_count', 'eng_char_count')\n",
    "\n",
    "twitter_data.head(2)"
   ]
  },
  {
   "cell_type": "code",
   "execution_count": 12,
   "id": "5832a842",
   "metadata": {
    "colab": {
     "base_uri": "https://localhost:8080/",
     "height": 310
    },
    "executionInfo": {
     "elapsed": 168,
     "status": "ok",
     "timestamp": 1678951516196,
     "user": {
      "displayName": "Glory Odeyemi",
      "userId": "04491820538436953732"
     },
     "user_tz": 240
    },
    "id": "5832a842",
    "outputId": "cbbd0f1b-3d18-42c2-8519-6664d2a588d8"
   },
   "outputs": [
    {
     "data": {
      "text/html": [
       "<div>\n",
       "<style scoped>\n",
       "    .dataframe tbody tr th:only-of-type {\n",
       "        vertical-align: middle;\n",
       "    }\n",
       "\n",
       "    .dataframe tbody tr th {\n",
       "        vertical-align: top;\n",
       "    }\n",
       "\n",
       "    .dataframe thead th {\n",
       "        text-align: right;\n",
       "    }\n",
       "</style>\n",
       "<table border=\"1\" class=\"dataframe\">\n",
       "  <thead>\n",
       "    <tr style=\"text-align: right;\">\n",
       "      <th></th>\n",
       "      <th>Tweets</th>\n",
       "      <th>Eng_source</th>\n",
       "      <th>Summary</th>\n",
       "      <th>tokenized_tweet_sent</th>\n",
       "      <th>tokenized_eng_sent</th>\n",
       "      <th>sum_sent_count</th>\n",
       "      <th>tweet_sent_count</th>\n",
       "      <th>eng_sent_count</th>\n",
       "      <th>sum_char_count</th>\n",
       "      <th>tweet_char_count</th>\n",
       "      <th>...</th>\n",
       "      <th>tokenized_eng</th>\n",
       "      <th>sum_word_count</th>\n",
       "      <th>tweet_word_count</th>\n",
       "      <th>eng_word_count</th>\n",
       "      <th>sum_word_density</th>\n",
       "      <th>tweet_word_density</th>\n",
       "      <th>eng_word_density</th>\n",
       "      <th>sum_sent_density</th>\n",
       "      <th>tweet_sent_density</th>\n",
       "      <th>eng_sent_density</th>\n",
       "    </tr>\n",
       "  </thead>\n",
       "  <tbody>\n",
       "    <tr>\n",
       "      <th>0</th>\n",
       "      <td>Wildlife photography lo shi ma pada shey</td>\n",
       "      <td>You will still end up doing wildlife photography</td>\n",
       "      <td>You will continue to photograph wildlife.</td>\n",
       "      <td>[wildlife photography lo shi ma pada shey]</td>\n",
       "      <td>[you will still end up doing wildlife photogra...</td>\n",
       "      <td>1</td>\n",
       "      <td>1</td>\n",
       "      <td>1</td>\n",
       "      <td>36</td>\n",
       "      <td>34</td>\n",
       "      <td>...</td>\n",
       "      <td>[you, will, still, end, up, doing, wildlife, p...</td>\n",
       "      <td>6</td>\n",
       "      <td>7</td>\n",
       "      <td>8</td>\n",
       "      <td>0.162162</td>\n",
       "      <td>0.200000</td>\n",
       "      <td>0.190476</td>\n",
       "      <td>0.142857</td>\n",
       "      <td>0.125</td>\n",
       "      <td>0.111111</td>\n",
       "    </tr>\n",
       "    <tr>\n",
       "      <th>1</th>\n",
       "      <td>E wa wo Wayray yii o  steady</td>\n",
       "      <td>Come and see this mad person is not steady</td>\n",
       "      <td>Come see; this insane person is unstable.</td>\n",
       "      <td>[e wa wo wayray yii o  steady]</td>\n",
       "      <td>[come and see this mad person is not steady]</td>\n",
       "      <td>1</td>\n",
       "      <td>1</td>\n",
       "      <td>1</td>\n",
       "      <td>35</td>\n",
       "      <td>21</td>\n",
       "      <td>...</td>\n",
       "      <td>[come, and, see, this, mad, person, is, not, s...</td>\n",
       "      <td>7</td>\n",
       "      <td>7</td>\n",
       "      <td>9</td>\n",
       "      <td>0.194444</td>\n",
       "      <td>0.318182</td>\n",
       "      <td>0.257143</td>\n",
       "      <td>0.125000</td>\n",
       "      <td>0.125</td>\n",
       "      <td>0.100000</td>\n",
       "    </tr>\n",
       "  </tbody>\n",
       "</table>\n",
       "<p>2 rows × 28 columns</p>\n",
       "</div>"
      ],
      "text/plain": [
       "                                     Tweets  \\\n",
       "0  Wildlife photography lo shi ma pada shey   \n",
       "1              E wa wo Wayray yii o  steady   \n",
       "\n",
       "                                         Eng_source  \\\n",
       "0  You will still end up doing wildlife photography   \n",
       "1        Come and see this mad person is not steady   \n",
       "\n",
       "                                     Summary  \\\n",
       "0  You will continue to photograph wildlife.   \n",
       "1  Come see; this insane person is unstable.   \n",
       "\n",
       "                         tokenized_tweet_sent  \\\n",
       "0  [wildlife photography lo shi ma pada shey]   \n",
       "1              [e wa wo wayray yii o  steady]   \n",
       "\n",
       "                                  tokenized_eng_sent  sum_sent_count  \\\n",
       "0  [you will still end up doing wildlife photogra...               1   \n",
       "1       [come and see this mad person is not steady]               1   \n",
       "\n",
       "   tweet_sent_count  eng_sent_count  sum_char_count  tweet_char_count  ...  \\\n",
       "0                 1               1              36                34  ...   \n",
       "1                 1               1              35                21  ...   \n",
       "\n",
       "                                       tokenized_eng  sum_word_count  \\\n",
       "0  [you, will, still, end, up, doing, wildlife, p...               6   \n",
       "1  [come, and, see, this, mad, person, is, not, s...               7   \n",
       "\n",
       "   tweet_word_count  eng_word_count sum_word_density tweet_word_density  \\\n",
       "0                 7               8         0.162162           0.200000   \n",
       "1                 7               9         0.194444           0.318182   \n",
       "\n",
       "  eng_word_density sum_sent_density tweet_sent_density  eng_sent_density  \n",
       "0         0.190476         0.142857              0.125          0.111111  \n",
       "1         0.257143         0.125000              0.125          0.100000  \n",
       "\n",
       "[2 rows x 28 columns]"
      ]
     },
     "execution_count": 12,
     "metadata": {},
     "output_type": "execute_result"
    }
   ],
   "source": [
    "# Create a new variable containing the density of sentences in the summary, tweet, and english text\n",
    "twitter_data['sum_sent_density'] = sent_density(twitter_data, 'sum_sent_count', 'sum_word_count')\n",
    "twitter_data['tweet_sent_density'] = sent_density(twitter_data, 'tweet_sent_count', 'tweet_word_count')\n",
    "twitter_data['eng_sent_density'] = sent_density(twitter_data, 'eng_sent_count', 'eng_word_count')\n",
    "\n",
    "twitter_data.head(2)"
   ]
  },
  {
   "cell_type": "code",
   "execution_count": 13,
   "id": "657ca39e",
   "metadata": {
    "colab": {
     "base_uri": "https://localhost:8080/"
    },
    "executionInfo": {
     "elapsed": 110,
     "status": "ok",
     "timestamp": 1678951524276,
     "user": {
      "displayName": "Glory Odeyemi",
      "userId": "04491820538436953732"
     },
     "user_tz": 240
    },
    "id": "657ca39e",
    "outputId": "8e4ea5f7-753c-4f6c-fe3a-3251eb66c117"
   },
   "outputs": [
    {
     "name": "stdout",
     "output_type": "stream",
     "text": [
      "Sum of values in numerical columns\n",
      "----------------------------------\n",
      "sum_sent_count          82.000000\n",
      "tweet_sent_count       109.000000\n",
      "eng_sent_count         107.000000\n",
      "sum_char_count        3473.000000\n",
      "tweet_char_count      4081.000000\n",
      "eng_char_count        4459.000000\n",
      "sum_punc_count         162.000000\n",
      "tweet_punc_count       197.000000\n",
      "eng_punc_count         223.000000\n",
      "sum_word_count         779.000000\n",
      "tweet_word_count      1058.000000\n",
      "eng_word_count        1026.000000\n",
      "sum_word_density        14.788948\n",
      "tweet_word_density      17.523064\n",
      "eng_word_density        15.191018\n",
      "sum_sent_density         7.251395\n",
      "tweet_sent_density       7.157761\n",
      "eng_sent_density         7.184380\n",
      "dtype: float64\n"
     ]
    }
   ],
   "source": [
    "# get the sum of values of numeric columns\n",
    "data_sum(twitter_data)"
   ]
  },
  {
   "cell_type": "code",
   "execution_count": 14,
   "id": "b7edf81b",
   "metadata": {
    "colab": {
     "base_uri": "https://localhost:8080/"
    },
    "executionInfo": {
     "elapsed": 136,
     "status": "ok",
     "timestamp": 1678951565587,
     "user": {
      "displayName": "Glory Odeyemi",
      "userId": "04491820538436953732"
     },
     "user_tz": 240
    },
    "id": "b7edf81b",
    "outputId": "aea5bf4b-46f3-448d-ebd1-0b3bd72e5403"
   },
   "outputs": [
    {
     "name": "stdout",
     "output_type": "stream",
     "text": [
      "Average of values in numerical columns\n",
      "--------------------------------------\n",
      "sum_sent_count         1.242424\n",
      "tweet_sent_count       1.651515\n",
      "eng_sent_count         1.621212\n",
      "sum_char_count        52.621212\n",
      "tweet_char_count      61.833333\n",
      "eng_char_count        67.560606\n",
      "sum_punc_count         2.454545\n",
      "tweet_punc_count       2.984848\n",
      "eng_punc_count         3.378788\n",
      "sum_word_count        11.803030\n",
      "tweet_word_count      16.030303\n",
      "eng_word_count        15.545455\n",
      "sum_word_density       0.224075\n",
      "tweet_word_density     0.265501\n",
      "eng_word_density       0.230167\n",
      "sum_sent_density       0.109870\n",
      "tweet_sent_density     0.108451\n",
      "eng_sent_density       0.108854\n",
      "dtype: float64\n"
     ]
    }
   ],
   "source": [
    "# get the average of values of numeric columns\n",
    "data_average(twitter_data)"
   ]
  },
  {
   "cell_type": "code",
   "execution_count": 15,
   "id": "cddf23ae",
   "metadata": {
    "colab": {
     "base_uri": "https://localhost:8080/"
    },
    "executionInfo": {
     "elapsed": 4464,
     "status": "ok",
     "timestamp": 1678951574107,
     "user": {
      "displayName": "Glory Odeyemi",
      "userId": "04491820538436953732"
     },
     "user_tz": 240
    },
    "id": "cddf23ae",
    "outputId": "ae7e4ec4-006e-4093-d5fb-c5b39606a0a9"
   },
   "outputs": [
    {
     "name": "stdout",
     "output_type": "stream",
     "text": [
      "Number of Yoruba words:  352\n",
      "Number of English words:  706\n",
      "Percentage of Yoruba words: 33.27%\n",
      "Percentage of English words: 66.73%\n"
     ]
    }
   ],
   "source": [
    "# language count in tweets using lingua library\n",
    "lang_count(twitter_data, 'tokenized_tweet')"
   ]
  },
  {
   "cell_type": "code",
   "execution_count": 16,
   "id": "1fb52a7d",
   "metadata": {
    "colab": {
     "base_uri": "https://localhost:8080/"
    },
    "executionInfo": {
     "elapsed": 4,
     "status": "ok",
     "timestamp": 1678951578196,
     "user": {
      "displayName": "Glory Odeyemi",
      "userId": "04491820538436953732"
     },
     "user_tz": 240
    },
    "id": "1fb52a7d",
    "outputId": "565daad5-3872-467a-ebd7-c39bee20b197"
   },
   "outputs": [
    {
     "name": "stdout",
     "output_type": "stream",
     "text": [
      "Number of Yoruba words:  479\n",
      "Number of Eng words:  579\n",
      "Percentage of Yoruba words: 45.27%\n",
      "Percentage of English words: 54.73%\n"
     ]
    }
   ],
   "source": [
    "# language count in tweets by comparing with english text\n",
    "lang_count_comp(twitter_data, 'tokenized_tweet', 'tokenized_eng')"
   ]
  },
  {
   "cell_type": "code",
   "execution_count": 17,
   "id": "LTpRUsWoKeb7",
   "metadata": {
    "colab": {
     "base_uri": "https://localhost:8080/"
    },
    "executionInfo": {
     "elapsed": 894,
     "status": "ok",
     "timestamp": 1678951627977,
     "user": {
      "displayName": "Glory Odeyemi",
      "userId": "04491820538436953732"
     },
     "user_tz": 240
    },
    "id": "LTpRUsWoKeb7",
    "outputId": "09a7c660-c82a-479c-fda9-32c5cac2f356"
   },
   "outputs": [
    {
     "name": "stdout",
     "output_type": "stream",
     "text": [
      "Number of unique words in Code-switched tweets = 511\n",
      "Number of unique words in English tweets = 468\n"
     ]
    }
   ],
   "source": [
    "# get unique words\n",
    "get_unique_words(twitter_data, 'tokenized_tweet', 'Code-switched tweets')\n",
    "get_unique_words(twitter_data, 'tokenized_eng', 'English tweets')"
   ]
  },
  {
   "cell_type": "code",
   "execution_count": 18,
   "id": "mc9Btwy3N1P2",
   "metadata": {
    "colab": {
     "base_uri": "https://localhost:8080/"
    },
    "executionInfo": {
     "elapsed": 3,
     "status": "ok",
     "timestamp": 1678951633909,
     "user": {
      "displayName": "Glory Odeyemi",
      "userId": "04491820538436953732"
     },
     "user_tz": 240
    },
    "id": "mc9Btwy3N1P2",
    "outputId": "be8d170b-c90b-407e-cfc9-766ffa2efad2"
   },
   "outputs": [
    {
     "name": "stdout",
     "output_type": "stream",
     "text": [
      "Number of unique sentences in Code-switched tweets = 109\n",
      "Number of unique sentences in English tweets = 107\n"
     ]
    }
   ],
   "source": [
    "# get unique sentences\n",
    "get_unique_sents(twitter_data, 'tokenized_tweet_sent', 'Code-switched tweets')\n",
    "get_unique_sents(twitter_data, 'tokenized_eng_sent', 'English tweets')"
   ]
  }
 ],
 "metadata": {
  "colab": {
   "provenance": []
  },
  "kernelspec": {
   "display_name": "Python 3 (ipykernel)",
   "language": "python",
   "name": "python3"
  },
  "language_info": {
   "codemirror_mode": {
    "name": "ipython",
    "version": 3
   },
   "file_extension": ".py",
   "mimetype": "text/x-python",
   "name": "python",
   "nbconvert_exporter": "python",
   "pygments_lexer": "ipython3",
   "version": "3.9.13"
  }
 },
 "nbformat": 4,
 "nbformat_minor": 5
}
