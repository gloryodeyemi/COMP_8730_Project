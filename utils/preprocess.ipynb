{
 "cells": [
  {
   "cell_type": "code",
   "execution_count": 1,
   "id": "16b127e1",
   "metadata": {},
   "outputs": [
    {
     "name": "stdout",
     "output_type": "stream",
     "text": [
      "Requirement already satisfied: lingua-language-detector in /Users/new/opt/anaconda3/lib/python3.9/site-packages (1.3.2)\r\n",
      "Requirement already satisfied: numpy<2.0.0,>=1.24.1 in /Users/new/opt/anaconda3/lib/python3.9/site-packages (from lingua-language-detector) (1.24.2)\r\n",
      "Requirement already satisfied: regex<2023.0.0,>=2022.10.31 in /Users/new/opt/anaconda3/lib/python3.9/site-packages (from lingua-language-detector) (2022.10.31)\r\n"
     ]
    }
   ],
   "source": [
    "!pip install lingua-language-detector"
   ]
  },
  {
   "cell_type": "code",
   "execution_count": 2,
   "id": "2b2f15ec",
   "metadata": {},
   "outputs": [],
   "source": [
    "# import all the needed libraries\n",
    "import nltk\n",
    "import pandas as pd\n",
    "import string\n",
    "import re\n",
    "from nltk.tokenize import sent_tokenize, word_tokenize\n",
    "from nltk.stem.porter import PorterStemmer\n",
    "from nltk.stem import WordNetLemmatizer\n",
    "from nltk import pos_tag, ne_chunk\n",
    "from lingua import Language, LanguageDetectorBuilder"
   ]
  },
  {
   "cell_type": "code",
   "execution_count": 3,
   "id": "86a31cfd",
   "metadata": {},
   "outputs": [
    {
     "name": "stderr",
     "output_type": "stream",
     "text": [
      "[nltk_data] Downloading package punkt to /Users/new/nltk_data...\n",
      "[nltk_data]   Package punkt is already up-to-date!\n",
      "[nltk_data] Downloading package wordnet to /Users/new/nltk_data...\n",
      "[nltk_data]   Package wordnet is already up-to-date!\n",
      "[nltk_data] Downloading package omw-1.4 to /Users/new/nltk_data...\n",
      "[nltk_data]   Package omw-1.4 is already up-to-date!\n",
      "[nltk_data] Downloading package averaged_perceptron_tagger to\n",
      "[nltk_data]     /Users/new/nltk_data...\n",
      "[nltk_data]   Package averaged_perceptron_tagger is already up-to-\n",
      "[nltk_data]       date!\n",
      "[nltk_data] Downloading package maxent_ne_chunker to\n",
      "[nltk_data]     /Users/new/nltk_data...\n",
      "[nltk_data]   Package maxent_ne_chunker is already up-to-date!\n",
      "[nltk_data] Downloading package words to /Users/new/nltk_data...\n",
      "[nltk_data]   Package words is already up-to-date!\n"
     ]
    },
    {
     "data": {
      "text/plain": [
       "True"
      ]
     },
     "execution_count": 3,
     "metadata": {},
     "output_type": "execute_result"
    }
   ],
   "source": [
    "# download the needed modules\n",
    "nltk.download('punkt')\n",
    "nltk.download('wordnet')\n",
    "nltk.download('omw-1.4')\n",
    "nltk.download('averaged_perceptron_tagger')\n",
    "nltk.download('maxent_ne_chunker')\n",
    "nltk.download('words')"
   ]
  },
  {
   "cell_type": "code",
   "execution_count": 4,
   "id": "471bfa12",
   "metadata": {},
   "outputs": [],
   "source": [
    "# function to count the number of sentences in the text\n",
    "def count_sents(text):\n",
    "    sent_count = len(sent_tokenize(text))\n",
    "    return sent_count\n",
    "\n",
    "# function to count the number of words in the text\n",
    "def count_words(text):\n",
    "    word_count = len(word_tokenize(text))\n",
    "    return word_count\n",
    "\n",
    "# function to count the number of characters in the text\n",
    "def count_chars(text):\n",
    "    char_count = len(text.replace(\" \",\"\"))\n",
    "    return char_count\n",
    "\n",
    "# function to calculate the word density in the text\n",
    "def word_density(data, colname1, colname2):\n",
    "    w_density = data[colname1] / (data[colname2] + 1)\n",
    "    return w_density\n",
    "\n",
    "# function to calculate the sentence density in the text\n",
    "def sent_density(data, colname1, colname2):\n",
    "    s_density = data[colname1] / (data[colname2] + 1)\n",
    "    return s_density\n",
    "\n",
    "# function to count the number of punctuation in the text\n",
    "def count_punc(text):\n",
    "    punc_count = len([a for a in text if a in string.punctuation])\n",
    "    return punc_count\n",
    "\n",
    "# function to display sum of values in all numeric columns \n",
    "def data_sum(data):\n",
    "    print(\"Sum of values in numerical columns\")\n",
    "    print(\"----------------------------------\")\n",
    "    print(data.sum(axis=0, numeric_only = True))\n",
    "    \n",
    "# function to display average of values in all numeric columns \n",
    "def data_average(data):\n",
    "    print(\"Average of values in numerical columns\")\n",
    "    print(\"--------------------------------------\")\n",
    "    print(data.mean(axis=0, numeric_only = True))\n",
    "    \n",
    "# function to remove punctuations in the text\n",
    "def remove_punctuation(text):\n",
    "    without_punc = \"\".join([i for i in text if i not in string.punctuation])\n",
    "    return without_punc\n",
    "\n",
    "# function for tokenizing the text\n",
    "def tokenize_text(text):\n",
    "    tokens = word_tokenize(text.lower())\n",
    "    return tokens\n",
    "\n",
    "# defining the object for stemming\n",
    "porter_stemmer = PorterStemmer()\n",
    "\n",
    "\n",
    "# function for stemming\n",
    "def stemming(text):\n",
    "    stem_text = [porter_stemmer.stem(word) for word in text]\n",
    "    return stem_text\n",
    "\n",
    "# defining the object for lemmatization\n",
    "wordnet_lemmatizer = WordNetLemmatizer()\n",
    "\n",
    "# function for lemmatization\n",
    "def lemmatizer(text):\n",
    "    lemm_text = [wordnet_lemmatizer.lemmatize(word) for word in text]\n",
    "    return lemm_text\n",
    "\n",
    "# function for entity recognition\n",
    "def NER(text):\n",
    "    ner_text = ne_chunk(pos_tag(text))\n",
    "    return ner_text\n",
    "\n",
    "\"\"\"\n",
    "    function to get number of english and yoruba words from the code-switch tweets \n",
    "    using the lingua-language-detector library\n",
    "\"\"\"\n",
    "def lang_count(data, col):\n",
    "    languages = [Language.ENGLISH, Language.YORUBA]\n",
    "    detector = LanguageDetectorBuilder.from_languages(*languages).build()\n",
    "    count_eng = 0\n",
    "    count_yor = 0\n",
    "\n",
    "    for row in data[col]:\n",
    "        for word in row:\n",
    "            lang = detector.detect_language_of(word)\n",
    "            if (lang == Language.YORUBA):\n",
    "                count_yor += 1\n",
    "            else:\n",
    "                count_eng += 1\n",
    "\n",
    "    print(\"Number of Yoruba words: \", count_yor)\n",
    "    print(\"Number of English words: \", count_eng)\n",
    "    print(f\"Percentage of Yoruba words: {((count_yor/(count_yor + count_eng)) * 100):.2f}%\")\n",
    "    print(f\"Percentage of English words: {((count_eng/(count_yor + count_eng)) * 100):.2f}%\")\n",
    "    \n",
    "# function to get number of english and yoruba words by comparing words in the tweet to words in the english text\n",
    "def lang_count_comp(data, col1, col2):\n",
    "    count_eng = 0\n",
    "    count_yor = 0\n",
    "\n",
    "    for ind in data.index:\n",
    "        list_1 = data[col1][ind]\n",
    "        list_2 = data[col2][ind]\n",
    "        for tok in list_1:\n",
    "            if (tok in list_2):\n",
    "                count_eng += 1\n",
    "            else:\n",
    "                count_yor += 1\n",
    "\n",
    "    print(\"Number of Yoruba words: \", count_yor)\n",
    "    print(\"Number of Eng words: \", count_eng)\n",
    "    print(f\"Percentage of Yoruba words: {((count_yor/(count_yor + count_eng)) * 100):.2f}%\")\n",
    "    print(f\"Percentage of English words: {((count_eng/(count_yor + count_eng)) * 100):.2f}%\")"
   ]
  }
 ],
 "metadata": {
  "kernelspec": {
   "display_name": "Python 3 (ipykernel)",
   "language": "python",
   "name": "python3"
  },
  "language_info": {
   "codemirror_mode": {
    "name": "ipython",
    "version": 3
   },
   "file_extension": ".py",
   "mimetype": "text/x-python",
   "name": "python",
   "nbconvert_exporter": "python",
   "pygments_lexer": "ipython3",
   "version": "3.9.13"
  }
 },
 "nbformat": 4,
 "nbformat_minor": 5
}
